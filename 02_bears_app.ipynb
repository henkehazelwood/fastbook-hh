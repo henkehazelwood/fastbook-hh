{
 "cells": [
  {
   "cell_type": "code",
   "execution_count": 16,
   "id": "3dc6e0c9-5939-432a-bf33-f81042f7e420",
   "metadata": {},
   "outputs": [],
   "source": [
    "from fastai.vision.all import load_learner"
   ]
  },
  {
   "cell_type": "code",
   "execution_count": 17,
   "id": "84bfd603-37b5-42cc-bc6b-a1e50278d17a",
   "metadata": {},
   "outputs": [],
   "source": [
    "import warnings\n",
    "from fastai.vision.all import load_learner\n",
    "\n",
    "# Suppress the warning (only if you trust the file)\n",
    "with warnings.catch_warnings():\n",
    "    warnings.simplefilter(\"ignore\")\n",
    "    learn = load_learner('models/bears.pkl')\n",
    "\n",
    "labels = learn.dls.vocab"
   ]
  },
  {
   "cell_type": "code",
   "execution_count": 18,
   "id": "fc21b6f5-7b0a-4585-95de-e87d2c600614",
   "metadata": {},
   "outputs": [],
   "source": [
    "#import os\n",
    "#print(os.path.exists('models/bears.pkl'))"
   ]
  },
  {
   "cell_type": "code",
   "execution_count": 19,
   "id": "3900716c-fb98-41d2-9ca7-c95f20fd7d91",
   "metadata": {},
   "outputs": [
    {
     "name": "stderr",
     "output_type": "stream",
     "text": [
      "/home/nelson/miniforge3/envs/fast/lib/python3.12/site-packages/fastai/learner.py:455: UserWarning: load_learner` uses Python's insecure pickle module, which can execute malicious arbitrary code when loading. Only load files you trust.\n",
      "If you only need to load model weights and optimizer state, use the safe `Learner.load` instead.\n",
      "  warn(\"load_learner` uses Python's insecure pickle module, which can execute malicious arbitrary code when loading. Only load files you trust.\\nIf you only need to load model weights and optimizer state, use the safe `Learner.load` instead.\")\n"
     ]
    }
   ],
   "source": [
    "learn = load_learner('models/bears.pkl')\n",
    "labels = learn.dls.vocab"
   ]
  },
  {
   "cell_type": "code",
   "execution_count": 20,
   "id": "d97430cf-42b8-42ea-8291-f83454544d24",
   "metadata": {},
   "outputs": [],
   "source": [
    "def predict(img):\n",
    "    img = PILImage.create(img)\n",
    "    pred,pred_idx,probs = learn.predict(img)\n",
    "    return {labels[i]: float(probs[i]) for i in range(len(labels))}"
   ]
  },
  {
   "cell_type": "code",
   "execution_count": 21,
   "id": "7aa0d182-a3c0-492a-bed2-8c538d6c24dd",
   "metadata": {},
   "outputs": [],
   "source": [
    "title = \"Bear Classifier\"\n",
    "description = \"A bear classifier trained on the Oxford Pets dataset and fine-tuned using fast.ai and images from Duckduckgo. Created as a demo for Gradio and HuggingFace Spaces.\"\n",
    "article=\"<p style='text-align: center'><a href='https://www.hazelwood.dev/bear-classifier' target='_blank'>Blog post</a></p>\"\n",
    "examples = ['images/polar.jpg']"
   ]
  },
  {
   "cell_type": "code",
   "execution_count": 22,
   "id": "356e791e-f107-4add-ab9d-7b92aee3cf3a",
   "metadata": {},
   "outputs": [
    {
     "ename": "NameError",
     "evalue": "name 'gr' is not defined",
     "output_type": "error",
     "traceback": [
      "\u001b[31m---------------------------------------------------------------------------\u001b[39m",
      "\u001b[31mNameError\u001b[39m                                 Traceback (most recent call last)",
      "\u001b[36mCell\u001b[39m\u001b[36m \u001b[39m\u001b[32mIn[22]\u001b[39m\u001b[32m, line 1\u001b[39m\n\u001b[32m----> \u001b[39m\u001b[32m1\u001b[39m \u001b[43mgr\u001b[49m.Interface(fn=predict,inputs=gr.Image(),outputs=gr.Label(num_top_classes=\u001b[32m3\u001b[39m),title=title,description=description,article=article,examples=examples).launch()\n",
      "\u001b[31mNameError\u001b[39m: name 'gr' is not defined"
     ]
    }
   ],
   "source": [
    "gr.Interface(fn=predict,inputs=gr.Image(),outputs=gr.Label(num_top_classes=3),title=title,description=description,article=article,examples=examples).launch()"
   ]
  },
  {
   "cell_type": "code",
   "execution_count": null,
   "id": "021def30-2cba-45c7-b36a-d04dba7bcd43",
   "metadata": {},
   "outputs": [],
   "source": []
  }
 ],
 "metadata": {
  "kernelspec": {
   "display_name": "Python 3 (ipykernel)",
   "language": "python",
   "name": "python3"
  },
  "language_info": {
   "codemirror_mode": {
    "name": "ipython",
    "version": 3
   },
   "file_extension": ".py",
   "mimetype": "text/x-python",
   "name": "python",
   "nbconvert_exporter": "python",
   "pygments_lexer": "ipython3",
   "version": "3.12.10"
  }
 },
 "nbformat": 4,
 "nbformat_minor": 5
}
